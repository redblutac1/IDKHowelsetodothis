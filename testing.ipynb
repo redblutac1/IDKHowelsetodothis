{
 "cells": [
  {
   "cell_type": "code",
   "execution_count": 64,
   "id": "initial_id",
   "metadata": {
    "collapsed": true,
    "ExecuteTime": {
     "end_time": "2024-11-08T07:53:05.323930Z",
     "start_time": "2024-11-08T07:53:05.320365Z"
    }
   },
   "outputs": [],
   "source": [
    "import numpy as np\n",
    "import random"
   ]
  },
  {
   "cell_type": "code",
   "outputs": [
    {
     "name": "stdout",
     "output_type": "stream",
     "text": [
      "[array([4.85680005, 2.1386068 , 0.95927793]), array([1.45913093, 3.39094079, 1.83003209]), array([7.59874966, 1.12796197, 0.25657147]), array([3.9100472 , 0.99648614, 2.20765161])]\n"
     ]
    }
   ],
   "source": [
    "b = np.random.rand(3) * 5\n",
    "r = np.random.rand(3) * 5\n",
    "a = np.random.rand(3) * 5\n",
    "\n",
    "ba = np.subtract(a, b)\n",
    "c = np.add(a, ba * random.random() * 5)\n",
    "\n",
    "atoms = [a, b, c, r]\n",
    "print(atoms)"
   ],
   "metadata": {
    "collapsed": false,
    "ExecuteTime": {
     "end_time": "2024-11-08T07:54:30.985347Z",
     "start_time": "2024-11-08T07:54:30.979136Z"
    }
   },
   "id": "f7d721ff04b5800d",
   "execution_count": 76
  },
  {
   "cell_type": "code",
   "outputs": [],
   "source": [
    "def getRparr(a, b, c, r):\n",
    "    br = np.subtract(r, b)\n",
    "    ba = np.subtract(a, b)\n",
    "    \n",
    "    ab = np.subtract(b, a)\n",
    "    ac = np.subtract(c, a)\n",
    "    \n",
    "    baN = np.linalg.norm(ba)\n",
    "    acN = np.linalg.norm(ac)\n",
    "    parr = np.subtract(br, ba * (np.dot(br, ba) / (baN ** 2)))\n",
    "    eparr = parr / np.linalg.norm(parr)\n",
    "    \n",
    "    return np.dot(eparr, np.cross(ab, ac) / (baN *  acN))\n",
    "\n",
    "def getRperp(a, b, c, r):\n",
    "    ba = np.subtract(a, b)\n",
    "    \n",
    "    br = np.subtract(r, b)\n",
    "    ba = np.subtract(a, b)\n",
    "    \n",
    "    ab = np.subtract(b, a)\n",
    "    ac = np.subtract(c, a)\n",
    "    \n",
    "    baN = np.linalg.norm(ba)\n",
    "    acN = np.linalg.norm(ac)\n",
    "    parr = np.subtract(br, ba * (np.dot(br, ba) / (baN ** 2)))\n",
    "    perp = np.cross(ba, parr)\n",
    "    eperp = perp / np.linalg.norm(perp)\n",
    "    \n",
    "    \n",
    "    \n",
    "    return np.dot(eperp, np.cross(ab, ac) / (baN *  acN))"
   ],
   "metadata": {
    "collapsed": false,
    "ExecuteTime": {
     "end_time": "2024-11-08T07:56:55.199896Z",
     "start_time": "2024-11-08T07:56:55.194267Z"
    }
   },
   "id": "5ccf337a0911c2fc",
   "execution_count": 92
  },
  {
   "cell_type": "code",
   "outputs": [
    {
     "data": {
      "text/plain": "np.float64(-5.508012864653323e-17)"
     },
     "execution_count": 93,
     "metadata": {},
     "output_type": "execute_result"
    }
   ],
   "source": [
    "getRparr(a, b, c, r)"
   ],
   "metadata": {
    "collapsed": false,
    "ExecuteTime": {
     "end_time": "2024-11-08T07:56:55.533567Z",
     "start_time": "2024-11-08T07:56:55.528007Z"
    }
   },
   "id": "82efece1567957b7",
   "execution_count": 93
  },
  {
   "cell_type": "code",
   "outputs": [],
   "source": [
    "def tauR(a, b, tau):\n",
    "    return a[tau] - b[tau]"
   ],
   "metadata": {
    "collapsed": false,
    "ExecuteTime": {
     "end_time": "2024-11-08T07:56:55.822030Z",
     "start_time": "2024-11-08T07:56:55.818125Z"
    }
   },
   "id": "fae338bbd3bb6451",
   "execution_count": 94
  },
  {
   "cell_type": "code",
   "outputs": [],
   "source": [
    "units = [np.array([1.0, 0.0, 0.0]), np.array([0.0, 1.0, 0.0]), np.array([0.0, 0.0, 1.0])]\n",
    "\n",
    "def getRparrgd(a, b, c, r, i, tau):\n",
    "    \n",
    "    br = np.subtract(r, b)\n",
    "    ba = np.subtract(a, b)\n",
    "    \n",
    "    ab = np.subtract(b, a)\n",
    "    ac = np.subtract(c, a)\n",
    "    \n",
    "    baN = np.linalg.norm(ba)\n",
    "    acN = np.linalg.norm(ac)\n",
    "    parr = np.subtract(br, ba * (np.dot(br, ba) / (baN ** 2)))\n",
    "    parrN = np.linalg.norm(parr)\n",
    "    eparr = parr / parrN\n",
    "    \n",
    "    if(i == 0):\n",
    "        term1 = np.dot(eparr, np.subtract(\n",
    "            np.cross(units[tau], np.subtract(ab, ac)) / (baN * acN), \n",
    "            np.cross(ab, ac) * ((baN * baN * tauR(a, c, tau) + acN * acN * tauR(a, b, tau)) / ((baN * acN) ** 3))))\n",
    "        \n",
    "        parrgd = np.subtract(ba * (np.dot(br, ba) * 2 * tauR(a, b, tau) / (baN ** 4)),\n",
    "                             np.add(units[tau] * np.dot(br, ba), ba * np.dot(br, units[tau])) / (baN ** 2))\n",
    "        parrNgd = np.dot(parr, parrgd) / parrN\n",
    "        eparrgd = np.subtract(parrgd * parrN, parr* parrNgd) / (parrN ** 2)\n",
    "        \n",
    "        term2 = np.dot(eparrgd, np.cross(ab, ac) / (baN *  acN))\n",
    "        \n",
    "        return term1 + term2\n",
    "    if(i == 1):\n",
    "        term1 = np.dot(eparr, np.subtract(\n",
    "            np.cross(units[tau], ac) / (baN * acN), \n",
    "            np.cross(ab, ac) * (tauR(b, a, tau) / (acN * baN ** 3))))\n",
    "        \n",
    "        parrgd = np.subtract(np.add(np.add(units[tau] * np.dot(br, ba), ba * (np.dot(units[tau], np.add(ba, br)))) / (baN **  2),\n",
    "                                    ba * (2 * tauR(b, a, tau) * np.dot(br, ba) / (baN ** 4))),\n",
    "                             units[tau])\n",
    "        parrNgd = np.dot(parr, parrgd) / parrN\n",
    "        eparrgd = np.subtract(parrgd * parrN, parr* parrNgd) / (parrN ** 2)\n",
    "        \n",
    "        term2 = np.dot(eparrgd, np.cross(ab, ac) / (baN *  acN))\n",
    "        \n",
    "        return term1 + term2\n",
    "    if(i == 2):\n",
    "        term1 = np.dot(eparr, np.subtract(\n",
    "            np.cross(ab, units[tau]) / (baN * acN), \n",
    "            np.cross(ab, ac) * (tauR(c, a, tau) / (baN * acN ** 3))))\n",
    "        \n",
    "        return term1\n",
    "    if(i == 3):\n",
    "        parrgd = np.subtract(units[tau], ba * (np.dot(units[tau], ba) / (baN ** 2)))\n",
    "        parrNgd = np.dot(parr, parrgd) / parrN\n",
    "        eparrgd = np.subtract(parrgd * parrN, parr* parrNgd) / (parrN ** 2)\n",
    "        \n",
    "        term2 = np.dot(eparrgd, np.cross(ab, ac) / (baN *  acN))\n",
    "        \n",
    "        return term2\n",
    "\n",
    "    "
   ],
   "metadata": {
    "collapsed": false,
    "ExecuteTime": {
     "end_time": "2024-11-08T07:56:56.262342Z",
     "start_time": "2024-11-08T07:56:56.249740Z"
    }
   },
   "id": "26f497f8ebc61d3",
   "execution_count": 95
  },
  {
   "cell_type": "code",
   "outputs": [],
   "source": [
    "def getRperpgd(a, b, c, r, i ,tau):\n",
    "    \n",
    "    br = np.subtract(r, b)\n",
    "    ba = np.subtract(a, b)\n",
    "    \n",
    "    ab = np.subtract(b, a)\n",
    "    ac = np.subtract(c, a)\n",
    "    \n",
    "    baN = np.linalg.norm(ba)\n",
    "    acN = np.linalg.norm(ac)\n",
    "    parr = np.subtract(br, ba * (np.dot(br, ba) / (baN ** 2)))\n",
    "    parrN = np.linalg.norm(parr)\n",
    "    eparr = parr / parrN\n",
    "    \n",
    "    perp = np.cross(ba, parr)\n",
    "    perpN = np.linalg.norm(perp)\n",
    "    eperp = perp / perpN\n",
    "    \n",
    "    bagd = np.array([0.0, 0.0, 0.0])\n",
    "    \n",
    "    if(i == 0):\n",
    "        parrgd = np.subtract(ba * (np.dot(br, ba) * 2 * tauR(a, b, tau) / (baN ** 4)),\n",
    "                             np.add(units[tau] * np.dot(br, ba), ba * np.dot(br, units[tau])) / (baN ** 2))\n",
    "        bagd = units[tau]\n",
    "    elif(i == 1):\n",
    "        parrgd = np.subtract(np.add(np.add(units[tau] * np.dot(br, ba), ba * (np.dot(units[tau], np.add(ba, br)))) / (baN **  2),\n",
    "                                    ba * (2 * tauR(b, a, tau) * np.dot(br, ba) / (baN ** 4))),\n",
    "                             units[tau])\n",
    "        bagd = -1 * units[tau]\n",
    "    elif(i == 2):\n",
    "        parrgd = np.array([0.0, 0.0, 0.0])\n",
    "    elif(i == 3):\n",
    "        parrgd = np.subtract(units[tau], ba * (np.dot(units[tau], ba) / (baN ** 2)))\n",
    "    \n",
    "    perpgd = np.add(np.cross(bagd, parr), np.cross(ba, parrgd))\n",
    "    perpNgd = np.dot(perp, perpgd) / perpN\n",
    "    \n",
    "    eperpgd = np.subtract(perpgd * perpN, perp * perpNgd) / (perpN ** 2)\n",
    "    \n",
    "    \n",
    "    if(i == 0):\n",
    "        term1 = np.dot(eperp, np.subtract(\n",
    "            np.cross(units[tau], np.subtract(ab, ac)) / (baN * acN), \n",
    "            np.cross(ab, ac) * ((baN * baN * tauR(a, c, tau) + acN * acN * tauR(a, b, tau)) / ((baN * acN) ** 3))))\n",
    "        \n",
    "        term2 = np.dot(eperpgd, np.cross(ab, ac) / (baN *  acN))\n",
    "        \n",
    "        return term1 + term2\n",
    "    if(i == 1):\n",
    "        term1 = np.dot(eperp, np.subtract(\n",
    "            np.cross(units[tau], ac) / (baN * acN), \n",
    "            np.cross(ab, ac) * (tauR(b, a, tau) / (acN * baN ** 3))))\n",
    "        \n",
    "        term2 = np.dot(eperpgd, np.cross(ab, ac) / (baN *  acN))\n",
    "        \n",
    "        return term1 + term2\n",
    "    if(i == 2):\n",
    "        term1 = np.dot(eperp, np.subtract(\n",
    "            np.cross(ab, units[tau]) / (baN * acN), \n",
    "            np.cross(ab, ac) * (tauR(c, a, tau) / (baN * acN ** 3))))\n",
    "        \n",
    "        return term1\n",
    "    if(i == 3):\n",
    "        term2 = np.dot(eperpgd, np.cross(ab, ac) / (baN *  acN))\n",
    "        \n",
    "        return term2"
   ],
   "metadata": {
    "collapsed": false,
    "ExecuteTime": {
     "end_time": "2024-11-08T07:57:07.202866Z",
     "start_time": "2024-11-08T07:57:07.192747Z"
    }
   },
   "id": "d86d5c7510c028e5",
   "execution_count": 98
  },
  {
   "cell_type": "code",
   "outputs": [
    {
     "name": "stdout",
     "output_type": "stream",
     "text": [
      "0.2321399538423247\n",
      "0.31012396392918945\n",
      "0.45978071563165973\n",
      "-0.10367354794295074\n",
      "-0.13850115462893975\n",
      "-0.20533775972773632\n",
      "-0.12846640589937397\n",
      "-0.17162280930024976\n",
      "-0.25444295590392346\n",
      "-2.143677328309785e-18\n",
      "-2.863814261340459e-18\n",
      "-4.245807237314674e-18\n",
      "\n",
      "-0.08209703902364396\n",
      "-0.4737267686561957\n",
      "0.3609808339537439\n",
      "0.0366644826550329\n",
      "0.21156605767008974\n",
      "-0.16121379872768152\n",
      "0.045432556368611085\n",
      "0.262160710986106\n",
      "-0.19976703522606246\n",
      "-1.1956318329293288e-17\n",
      "-1.5972867974283248e-17\n",
      "-2.368090674083744e-17\n"
     ]
    }
   ],
   "source": [
    "for atom in range(4):\n",
    "    for i in range(3):\n",
    "        print(getRparrgd(a, b, c, r, atom, i))\n",
    "print()\n",
    "for atom in range(4):\n",
    "    for i in range(3):\n",
    "        print(getRperpgd(a, b, c, r, atom, i))"
   ],
   "metadata": {
    "collapsed": false,
    "ExecuteTime": {
     "end_time": "2024-11-08T07:57:07.811236Z",
     "start_time": "2024-11-08T07:57:07.799617Z"
    }
   },
   "id": "836f47fde87c4723",
   "execution_count": 99
  },
  {
   "cell_type": "code",
   "outputs": [
    {
     "name": "stdout",
     "output_type": "stream",
     "text": [
      "0.23213996862849878\n",
      "0.3101240032422602\n",
      "0.45978073739392783\n",
      "-0.10367354374056044\n",
      "-0.13850118609660572\n",
      "-0.20533777239191\n",
      "-0.12846641743341816\n",
      "-0.17162281590091388\n",
      "-0.25444293364716775\n",
      "-2.1436740431557012e-18\n",
      "-2.8638116049851544e-18\n",
      "-4.2458034662950365e-18\n",
      "\n",
      "-0.08209701662276356\n",
      "-0.4737268230433652\n",
      "0.36098084763357713\n",
      "0.036664493384615145\n",
      "0.21156610294715147\n",
      "-0.16121380902612686\n",
      "0.04543257399719682\n",
      "0.2621607238832623\n",
      "-0.1997670182924723\n",
      "-1.19563240876636e-17\n",
      "-1.5972871016354602e-17\n",
      "-2.3680904876978973e-17\n"
     ]
    }
   ],
   "source": [
    "LAMBDA = 0.000000001\n",
    "for atom in range(4):\n",
    "    for i in range(3):\n",
    "        atomscopy = atoms.copy()\n",
    "        atomnew = atoms[atom].copy()\n",
    "        atomnew[i] += LAMBDA\n",
    "        atomscopy[atom] = atomnew\n",
    "        print((getRparr(atomscopy[0], atomscopy[1], atomscopy[2], atomscopy[3]) - getRparr(atoms[0], atoms[1], atoms[2], atoms[3])) / LAMBDA)\n",
    "print()\n",
    "for atom in range(4):\n",
    "    for i in range(3):\n",
    "        atomscopy = atoms.copy()\n",
    "        atomnew = atoms[atom].copy()\n",
    "        atomnew[i] += LAMBDA\n",
    "        atomscopy[atom] = atomnew\n",
    "        print((getRperp(atomscopy[0], atomscopy[1], atomscopy[2], atomscopy[3]) - getRperp(atoms[0], atoms[1], atoms[2], atoms[3])) / LAMBDA)"
   ],
   "metadata": {
    "collapsed": false,
    "ExecuteTime": {
     "end_time": "2024-11-08T07:54:50.079041Z",
     "start_time": "2024-11-08T07:54:50.066556Z"
    }
   },
   "id": "39f2cc5da67fd832",
   "execution_count": 83
  },
  {
   "cell_type": "code",
   "outputs": [],
   "source": [],
   "metadata": {
    "collapsed": false
   },
   "id": "becb88f29ce7d628"
  }
 ],
 "metadata": {
  "kernelspec": {
   "display_name": "Python 3",
   "language": "python",
   "name": "python3"
  },
  "language_info": {
   "codemirror_mode": {
    "name": "ipython",
    "version": 2
   },
   "file_extension": ".py",
   "mimetype": "text/x-python",
   "name": "python",
   "nbconvert_exporter": "python",
   "pygments_lexer": "ipython2",
   "version": "2.7.6"
  }
 },
 "nbformat": 4,
 "nbformat_minor": 5
}
